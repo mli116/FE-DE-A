{
 "cells": [
  {
   "cell_type": "code",
   "execution_count": 6,
   "id": "bb324419-a81f-4e70-aef6-b5dd9d1ca06f",
   "metadata": {},
   "outputs": [],
   "source": [
    "import numpy as np\n",
    "from scipy.stats import norm\n",
    "import pandas as pd\n",
    "import math\n",
    "import time"
   ]
  },
  {
   "cell_type": "code",
   "execution_count": 7,
   "id": "1b29de12-cefb-4f57-962e-bc1ee4c9cb0d",
   "metadata": {},
   "outputs": [
    {
     "name": "stdout",
     "output_type": "stream",
     "text": [
      "Option price (European Call): 9.20759\n",
      "Computation time: 0.002568 seconds\n"
     ]
    }
   ],
   "source": [
    "\n",
    "\n",
    "def binomial_pricer(\n",
    "    option_type: str,      # 'C' for call, 'P' for put\n",
    "    K: float,             # strike price\n",
    "    T: float,             # time to maturity (in years)\n",
    "    S0: float,            # current underlying asset price\n",
    "    sigma: float,         # volatility\n",
    "    r: float,             # continuous risk-free rate\n",
    "    q: float,             # continuous dividend yield\n",
    "    N: int,               # number of binomial time steps\n",
    "    exercise_style: str   # 'E' for European, 'A' for American\n",
    "):\n",
    "    \"\"\"\n",
    "    Compute the option price using the basic Cox-Ross-Rubinstein binomial model.\n",
    "\n",
    "    Parameters\n",
    "    ----------\n",
    "    option_type    : 'C' for Call, 'P' for Put\n",
    "    K              : Strike price\n",
    "    T              : Time to maturity (in years)\n",
    "    S0             : Current underlying asset price\n",
    "    sigma          : Volatility of underlying\n",
    "    r              : Continuous compounding risk-free interest rate\n",
    "    q              : Continuous dividend yield\n",
    "    N              : Number of time steps in the binomial model\n",
    "    exercise_style : 'E' for European option, 'A' for American option\n",
    "\n",
    "    Returns\n",
    "    -------\n",
    "    price    : float\n",
    "               The computed option price at time 0\n",
    "    elapsed  : float\n",
    "               Elapsed time (in seconds) for the pricing computation\n",
    "    \"\"\"\n",
    "\n",
    "    # Start timing\n",
    "    start_time = time.time()\n",
    "\n",
    "    # 1) Calculate basic parameters for CRR\n",
    "    dt = T / N\n",
    "    u = math.exp(sigma * math.sqrt(dt))   # up factor\n",
    "    d = 1.0 / u                           # down factor\n",
    "    # Risk-neutral probability\n",
    "    p = (math.exp((r - q) * dt) - d) / (u - d)\n",
    "\n",
    "    # 2) Compute the option payoff at maturity (i.e., at step N)\n",
    "    #    We'll store these in a 1D list \"payoff\" of length (N+1).\n",
    "    stock_prices_end = [\n",
    "        S0 * (u**j) * (d**(N - j)) for j in range(N + 1)\n",
    "    ]\n",
    "\n",
    "    if option_type.upper() == 'C':\n",
    "        payoff = [max(sp - K, 0.0) for sp in stock_prices_end]\n",
    "    else:  # 'P'\n",
    "        payoff = [max(K - sp, 0.0) for sp in stock_prices_end]\n",
    "\n",
    "    # 3) Backward recursion through the tree\n",
    "    #    At each step, we compute the \"continuation value\" and, if American,\n",
    "    #    compare it to the \"immediate exercise value.\"\n",
    "    for i in range(N - 1, -1, -1):\n",
    "        for j in range(i + 1):\n",
    "            # Continuation value (risk-neutral expectation discounted back one step)\n",
    "            continuation_value = math.exp(-r * dt) * (\n",
    "                p * payoff[j + 1] + (1 - p) * payoff[j]\n",
    "            )\n",
    "\n",
    "            if exercise_style.upper() == 'A':\n",
    "                # Stock price at node (i, j)\n",
    "                stock_price_node = S0 * (u**j) * (d**(i - j))\n",
    "                # Immediate exercise value\n",
    "                if option_type.upper() == 'C':\n",
    "                    immediate_exercise = max(stock_price_node - K, 0.0)\n",
    "                else:\n",
    "                    immediate_exercise = max(K - stock_price_node, 0.0)\n",
    "                # American: take the maximum\n",
    "                payoff[j] = max(continuation_value, immediate_exercise)\n",
    "            else:\n",
    "                # European: can only hold\n",
    "                payoff[j] = continuation_value\n",
    "\n",
    "        # After processing step i, the relevant payoff array size becomes (i+1)\n",
    "        payoff = payoff[: i + 1]\n",
    "\n",
    "    # Now payoff[0] is the option value at the root (initial time)\n",
    "    price = payoff[0]\n",
    "    elapsed_time = time.time() - start_time\n",
    "\n",
    "    return price, elapsed_time\n",
    "\n",
    "\n",
    "# =============== Example Usage ===============\n",
    "if __name__ == '__main__':\n",
    "    # Example: Price a European call with given parameters\n",
    "    option_type = 'C'       # Call\n",
    "    K = 100.0\n",
    "    T = 1.0\n",
    "    S0 = 100.0\n",
    "    sigma = 0.2\n",
    "    r = 0.05\n",
    "    q = 0.02\n",
    "    N = 100\n",
    "    exercise_style = 'E'    # European\n",
    "\n",
    "    price, comp_time = binomial_pricer(option_type, K, T, S0, sigma, r, q, N, exercise_style)\n",
    "    print(f\"Option price (European Call): {price:.5f}\")\n",
    "    print(f\"Computation time: {comp_time:.6f} seconds\")\n",
    "\n"
   ]
  },
  {
   "cell_type": "code",
   "execution_count": null,
   "id": "3ede8d16-1ccc-4533-805d-089a42de49ba",
   "metadata": {},
   "outputs": [],
   "source": []
  }
 ],
 "metadata": {
  "kernelspec": {
   "display_name": "Python 3 (ipykernel)",
   "language": "python",
   "name": "python3"
  },
  "language_info": {
   "codemirror_mode": {
    "name": "ipython",
    "version": 3
   },
   "file_extension": ".py",
   "mimetype": "text/x-python",
   "name": "python",
   "nbconvert_exporter": "python",
   "pygments_lexer": "ipython3",
   "version": "3.12.7"
  }
 },
 "nbformat": 4,
 "nbformat_minor": 5
}

# Black-Scholes for European Call (S0 = 100, K = 100, r = 0.05, q = 0.02, sigma = 0.2, T = 1)
def black_scholes_call(S, K, T, r, q, sigma):
    d1 = (np.log(S/K) + (r - q + 0.5 * sigma**2)*T)/(sigma * np.sqrt(T))
    d2 = d1 - sigma * np.sqrt(T)
    call = S * np.exp(-q * T) * norm.cdf(d1) - K * np.exp(-r * T) * norm.cdf(d2)
    return call

bs_call_price = black_scholes_call(S0, K, T, r, q, sigma)

N_values = [10, 50, 100, 200, 500, 1000]
binomial_prices_eur_call = []
errors_eur_call = []

# Calculate binomial prices and errors for European Call
for N in N_values:
    price, _ = binomial_pricer('C', K, T, S0, sigma, r, q, N, 'E')
    binomial_prices_eur_call.append(price)
    errors_eur_call.append(abs(price - bs_call_price))

# Visualization of convergence for European Call
plt.figure(figsize = (10,6))
plt.plot(N_values, binomial_prices_eur_call, 'o-', label = 'Binomial CRR')
plt.axhline(bs_call_price, color = 'red', linestyle = '--', label = 'Black-Scholes Price')
plt.xlabel('Number of Steps (N)')
plt.ylabel('Option Price')
plt.title('European Call: Binomial Model Convergence')
plt.legend()
plt.grid()
plt.show()

# Convergence analysis for American Put
exact_american_put_price = 6.66069

binomial_prices_am_put = []
errors_am_put = []

# Calculate binomial prices and errors for American Put
for N in N_values:
    price, _ = binomial_pricer('P', K, T, S0, sigma, r, q, N, 'A')
    binomial_prices_am_put.append(price)
    errors_am_put.append(abs(price - exact_american_put_price))

# Visualization of convergence for American Put
plt.figure(figsize = (10,6))
plt.plot(N_values, binomial_prices_am_put, 'o-', label = 'Binomial CRR (American Put)')
plt.axhline(exact_american_put_price, color = 'green', linestyle = '--', label = 'Exact American Put Price')
plt.xlabel('Number of Steps (N)')
plt.ylabel('Option Price')
plt.title('American Put: Binomial Model Convergence')
plt.legend()
plt.grid()
plt.show()
